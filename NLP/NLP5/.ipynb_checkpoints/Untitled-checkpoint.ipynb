{
 "cells": [
  {
   "cell_type": "code",
   "execution_count": 1,
   "metadata": {},
   "outputs": [],
   "source": [
    "from sklearn.feature_extraction.text import CountVectorizer\n",
    "from sklearn.feature_extraction.text import TfidfVectorizer\n",
    "from sklearn.metrics.pairwise import cosine_similarity"
   ]
  },
  {
   "cell_type": "code",
   "execution_count": 2,
   "metadata": {},
   "outputs": [],
   "source": [
    "doc1 = open(\"s1.txt\",'r').read()\n",
    "doc2 = open(\"s2.txt\",'r').read()"
   ]
  },
  {
   "cell_type": "code",
   "execution_count": 4,
   "metadata": {},
   "outputs": [],
   "source": [
    "doc = [doc1,doc2]"
   ]
  },
  {
   "cell_type": "code",
   "execution_count": 7,
   "metadata": {},
   "outputs": [],
   "source": [
    "cv = CountVectorizer(doc)\n",
    "idf = TfidfVectorizer()"
   ]
  },
  {
   "cell_type": "code",
   "execution_count": 9,
   "metadata": {},
   "outputs": [
    {
     "data": {
      "text/plain": [
       "array([[ 0.        ,  0.        ,  0.        ,  0.13172599,  0.13172599,\n",
       "         0.28117237,  0.        ,  0.        ,  0.13172599,  0.        ,\n",
       "         0.13172599,  0.13172599,  0.        ,  0.        ,  0.13172599,\n",
       "         0.        ,  0.13172599,  0.09372412,  0.        ,  0.        ,\n",
       "         0.        ,  0.        ,  0.        ,  0.        ,  0.        ,\n",
       "         0.        ,  0.13172599,  0.26345197,  0.        ,  0.        ,\n",
       "         0.        ,  0.13172599,  0.18744825,  0.13172599,  0.        ,\n",
       "         0.        ,  0.        ,  0.        ,  0.13172599,  0.13172599,\n",
       "         0.09372412,  0.09372412,  0.13172599,  0.13172599,  0.        ,\n",
       "         0.        ,  0.        ,  0.13172599,  0.        ,  0.13172599,\n",
       "         0.13172599,  0.        ,  0.        ,  0.13172599,  0.        ,\n",
       "         0.        ,  0.        ,  0.        ,  0.        ,  0.        ,\n",
       "         0.        ,  0.13172599,  0.09372412,  0.        ,  0.13172599,\n",
       "         0.        ,  0.        ,  0.        ,  0.13172599,  0.        ,\n",
       "         0.39517796,  0.13172599,  0.13172599,  0.        ,  0.        ,\n",
       "         0.        ,  0.09372412,  0.09372412,  0.09372412,  0.        ,\n",
       "         0.09372412,  0.13172599,  0.13172599,  0.        ,  0.13172599,\n",
       "         0.26345197,  0.26345197],\n",
       "       [ 0.09656102,  0.38624407,  0.09656102,  0.        ,  0.        ,\n",
       "         0.06870396,  0.09656102,  0.09656102,  0.        ,  0.09656102,\n",
       "         0.        ,  0.        ,  0.09656102,  0.09656102,  0.        ,\n",
       "         0.09656102,  0.        ,  0.06870396,  0.09656102,  0.09656102,\n",
       "         0.28968306,  0.19312204,  0.09656102,  0.09656102,  0.09656102,\n",
       "         0.09656102,  0.        ,  0.        ,  0.09656102,  0.09656102,\n",
       "         0.09656102,  0.        ,  0.13740792,  0.        ,  0.09656102,\n",
       "         0.09656102,  0.09656102,  0.09656102,  0.        ,  0.        ,\n",
       "         0.06870396,  0.06870396,  0.        ,  0.        ,  0.09656102,\n",
       "         0.09656102,  0.09656102,  0.        ,  0.19312204,  0.        ,\n",
       "         0.        ,  0.09656102,  0.09656102,  0.        ,  0.09656102,\n",
       "         0.09656102,  0.09656102,  0.09656102,  0.28968306,  0.09656102,\n",
       "         0.09656102,  0.        ,  0.20611188,  0.09656102,  0.        ,\n",
       "         0.09656102,  0.09656102,  0.09656102,  0.        ,  0.09656102,\n",
       "         0.        ,  0.        ,  0.        ,  0.19312204,  0.09656102,\n",
       "         0.09656102,  0.20611188,  0.20611188,  0.06870396,  0.09656102,\n",
       "         0.13740792,  0.        ,  0.        ,  0.09656102,  0.        ,\n",
       "         0.        ,  0.        ]])"
      ]
     },
     "execution_count": 9,
     "metadata": {},
     "output_type": "execute_result"
    }
   ],
   "source": [
    "idf.fit_transform(doc).toarray()"
   ]
  },
  {
   "cell_type": "code",
   "execution_count": 19,
   "metadata": {},
   "outputs": [
    {
     "data": {
      "text/plain": [
       "4"
      ]
     },
     "execution_count": 19,
     "metadata": {},
     "output_type": "execute_result"
    }
   ],
   "source": [
    "idf.vocabulary_[\"anaconda\"]"
   ]
  },
  {
   "cell_type": "code",
   "execution_count": 23,
   "metadata": {},
   "outputs": [
    {
     "ename": "TypeError",
     "evalue": "'NoneType' object is not callable",
     "output_type": "error",
     "traceback": [
      "\u001b[0;31m---------------------------------------------------------------------------\u001b[0m",
      "\u001b[0;31mTypeError\u001b[0m                                 Traceback (most recent call last)",
      "\u001b[0;32m<ipython-input-23-5303acb20f23>\u001b[0m in \u001b[0;36m<module>\u001b[0;34m()\u001b[0m\n\u001b[0;32m----> 1\u001b[0;31m \u001b[0midf\u001b[0m\u001b[0;34m.\u001b[0m\u001b[0mtokenizer\u001b[0m\u001b[0;34m(\u001b[0m\u001b[0;34m)\u001b[0m\u001b[0;34m\u001b[0m\u001b[0m\n\u001b[0m",
      "\u001b[0;31mTypeError\u001b[0m: 'NoneType' object is not callable"
     ]
    }
   ],
   "source": []
  },
  {
   "cell_type": "code",
   "execution_count": null,
   "metadata": {
    "collapsed": true
   },
   "outputs": [],
   "source": []
  }
 ],
 "metadata": {
  "kernelspec": {
   "display_name": "Python 2",
   "language": "python",
   "name": "python2"
  },
  "language_info": {
   "codemirror_mode": {
    "name": "ipython",
    "version": 2
   },
   "file_extension": ".py",
   "mimetype": "text/x-python",
   "name": "python",
   "nbconvert_exporter": "python",
   "pygments_lexer": "ipython2",
   "version": "2.7.15"
  }
 },
 "nbformat": 4,
 "nbformat_minor": 2
}
