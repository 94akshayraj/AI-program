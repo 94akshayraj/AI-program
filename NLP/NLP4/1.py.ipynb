{
 "cells": [
  {
   "cell_type": "code",
   "execution_count": 63,
   "metadata": {},
   "outputs": [],
   "source": [
    "from textblob import TextBlob,Word\n",
    "import math"
   ]
  },
  {
   "cell_type": "code",
   "execution_count": 64,
   "metadata": {},
   "outputs": [],
   "source": [
    "s1 =TextBlob('The game of life is a game of everlasting learning.')\n",
    "s2 =TextBlob('The unexamined life is not worth living.')\n",
    "s3 =TextBlob('Never stop learning.')"
   ]
  },
  {
   "cell_type": "code",
   "execution_count": 65,
   "metadata": {},
   "outputs": [],
   "source": [
    "doclist = [s1,s2,s3]"
   ]
  },
  {
   "cell_type": "code",
   "execution_count": 66,
   "metadata": {},
   "outputs": [
    {
     "name": "stdout",
     "output_type": "stream",
     "text": [
      "Term Frequency is: \n",
      "## The  ==  1\n",
      "## game  ==  2\n",
      "## of  ==  2\n",
      "## life  ==  1\n",
      "## is  ==  1\n",
      "## a  ==  1\n",
      "## game  ==  2\n",
      "## of  ==  2\n",
      "## everlasting  ==  1\n",
      "## learning  ==  1\n",
      "## The  ==  1\n",
      "## unexamined  ==  1\n",
      "## life  ==  1\n",
      "## is  ==  1\n",
      "## not  ==  1\n",
      "## worth  ==  1\n",
      "## living  ==  1\n",
      "## Never  ==  1\n",
      "## stop  ==  1\n",
      "## learning  ==  1\n"
     ]
    }
   ],
   "source": [
    "print 'Term Frequency is: '\n",
    "for i in doclist:\n",
    "    #print i.words\n",
    "    for j in i.words:\n",
    "        print '##',j, ' == ',i.words.count(j)"
   ]
  },
  {
   "cell_type": "code",
   "execution_count": 67,
   "metadata": {},
   "outputs": [],
   "source": [
    "##IDF(game) = 1 + log e (Total Number Of Documents / \n",
    "#Number Of Documents with term game in it)"
   ]
  },
  {
   "cell_type": "code",
   "execution_count": 77,
   "metadata": {},
   "outputs": [
    {
     "name": "stdout",
     "output_type": "stream",
     "text": [
      "1\n"
     ]
    }
   ],
   "source": [
    "tot = 0\n",
    "wrd = Word('game')\n",
    "for doc in doclist:\n",
    "    count = doc.words.count(wrd)\n",
    "    #for word in doc.words:\n",
    "    if count>0:\n",
    "        tot +=1 \n",
    "            \n",
    "print tot"
   ]
  },
  {
   "cell_type": "code",
   "execution_count": 78,
   "metadata": {
    "scrolled": true
   },
   "outputs": [
    {
     "data": {
      "text/plain": [
       "3"
      ]
     },
     "execution_count": 78,
     "metadata": {},
     "output_type": "execute_result"
    }
   ],
   "source": [
    "len(doclist)"
   ]
  },
  {
   "cell_type": "code",
   "execution_count": 79,
   "metadata": {},
   "outputs": [
    {
     "data": {
      "text/plain": [
       "2.09861228866811"
      ]
     },
     "execution_count": 79,
     "metadata": {},
     "output_type": "execute_result"
    }
   ],
   "source": [
    "def idf():\n",
    "    return 1+math.log(float(len(doclist))/float(tot)) \n",
    "idf()  "
   ]
  },
  {
   "cell_type": "code",
   "execution_count": null,
   "metadata": {},
   "outputs": [],
   "source": []
  }
 ],
 "metadata": {
  "kernelspec": {
   "display_name": "Python 2",
   "language": "python",
   "name": "python2"
  },
  "language_info": {
   "codemirror_mode": {
    "name": "ipython",
    "version": 2
   },
   "file_extension": ".py",
   "mimetype": "text/x-python",
   "name": "python",
   "nbconvert_exporter": "python",
   "pygments_lexer": "ipython2",
   "version": "2.7.15"
  }
 },
 "nbformat": 4,
 "nbformat_minor": 2
}
