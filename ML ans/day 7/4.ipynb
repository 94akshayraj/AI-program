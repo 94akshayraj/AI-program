{
 "cells": [
  {
   "cell_type": "code",
   "execution_count": 1,
   "metadata": {},
   "outputs": [],
   "source": [
    "from sklearn import preprocessing\n",
    "from sklearn.model_selection import cross_val_score,KFold\n",
    "from sklearn.neighbors import KNeighborsClassifier\n",
    "from sklearn.svm import SVC\n",
    "from sklearn.linear_model import LogisticRegression\n",
    "from sklearn.tree import DecisionTreeClassifier\n",
    "from sklearn.naive_bayes import GaussianNB\n",
    "import matplotlib.pyplot as plt\n",
    "import pandas as pd"
   ]
  },
  {
   "cell_type": "code",
   "execution_count": 2,
   "metadata": {},
   "outputs": [],
   "source": [
    "#data = pd.read_csv('/home/ai3/Desktop/common/ML/Day5/train.csv', header=None)\n",
    "data = pd.read_csv(\"/home/ai3/Desktop/common/ML/Day5/banking.csv\")"
   ]
  },
  {
   "cell_type": "code",
   "execution_count": 3,
   "metadata": {},
   "outputs": [],
   "source": [
    "le = preprocessing.LabelEncoder()"
   ]
  },
  {
   "cell_type": "code",
   "execution_count": 4,
   "metadata": {},
   "outputs": [],
   "source": [
    "for col  in data.columns.values:\n",
    "\tif data[col].dtypes=='object':\n",
    "\t\tle.fit(data[col].values)\n",
    "\t\tdata[col]=le.transform(data[col])\n",
    "data = data.as_matrix()"
   ]
  },
  {
   "cell_type": "code",
   "execution_count": 5,
   "metadata": {},
   "outputs": [],
   "source": [
    "#X = data[:,(1,2,3,4,5,6,7,8,9,14)]\n",
    "#X"
   ]
  },
  {
   "cell_type": "code",
   "execution_count": 6,
   "metadata": {},
   "outputs": [],
   "source": [
    "X=data[:,0:20]\n",
    "y=data[:,20]"
   ]
  },
  {
   "cell_type": "code",
   "execution_count": 7,
   "metadata": {},
   "outputs": [],
   "source": [
    "models= []\n",
    "models.append((\"KNN\",KNeighborsClassifier()))\n",
    "models.append((\"LR\",LogisticRegression()))\n",
    "models.append((\"DT\",DecisionTreeClassifier()))\n",
    "models.append((\"NB\",GaussianNB()))\n",
    "models.append((\"SVM\",SVC()))"
   ]
  },
  {
   "cell_type": "code",
   "execution_count": 8,
   "metadata": {},
   "outputs": [],
   "source": [
    "results = []\n",
    "names = []"
   ]
  },
  {
   "cell_type": "code",
   "execution_count": null,
   "metadata": {},
   "outputs": [
    {
     "name": "stdout",
     "output_type": "stream",
     "text": [
      "KNN\n",
      "[ 0.90580238  0.9055596   0.90507405  0.90434571  0.89851906  0.90725904\n",
      "  0.90167516  0.90094683  0.90869354  0.90966489]\n",
      "LR\n",
      "[ 0.9024035   0.91357126  0.91405681  0.90604516  0.90216072  0.91017237\n",
      "  0.90968682  0.90895849  0.9137931   0.91427878]\n",
      "DT\n",
      "[ 0.88662297  0.88759408  0.88710852  0.88225297  0.88662297  0.89244962\n",
      "  0.89317796  0.88225297  0.88538125  0.88853813]\n",
      "NB\n",
      "[ 0.84850692  0.84753581  0.84510804  0.84025249  0.83685361  0.85069192\n",
      "  0.84413693  0.85214858  0.84652744  0.85332686]\n"
     ]
    }
   ],
   "source": [
    "for name,model in models:\n",
    "    kfold = KFold(n_splits=10,random_state=7)\n",
    "    v = cross_val_score(model,X,y,cv=kfold,scoring='accuracy')\n",
    "    results.append(v)\n",
    "    names.append(name)\n",
    "    print(name)\n",
    "    print(v)"
   ]
  },
  {
   "cell_type": "code",
   "execution_count": null,
   "metadata": {},
   "outputs": [],
   "source": [
    "fig = plt.figure()\n",
    "fig.suptitle('5 Algorithm Comparison')\n",
    "ax = fig.add_subplot(111)\n",
    "plt.boxplot(results)\n",
    "ax.set_xticklabels(names)\n",
    "plt.show()"
   ]
  },
  {
   "cell_type": "code",
   "execution_count": null,
   "metadata": {},
   "outputs": [],
   "source": []
  },
  {
   "cell_type": "code",
   "execution_count": null,
   "metadata": {},
   "outputs": [],
   "source": []
  }
 ],
 "metadata": {
  "kernelspec": {
   "display_name": "Python 2",
   "language": "python",
   "name": "python2"
  },
  "language_info": {
   "codemirror_mode": {
    "name": "ipython",
    "version": 2
   },
   "file_extension": ".py",
   "mimetype": "text/x-python",
   "name": "python",
   "nbconvert_exporter": "python",
   "pygments_lexer": "ipython2",
   "version": "2.7.15"
  }
 },
 "nbformat": 4,
 "nbformat_minor": 2
}
