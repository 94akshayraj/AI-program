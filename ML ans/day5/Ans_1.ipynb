{
 "cells": [
  {
   "cell_type": "code",
   "execution_count": 1,
   "metadata": {},
   "outputs": [],
   "source": [
    "import sklearn\n",
    "import pandas as pd\n",
    "import matplotlib.pyplot as plt"
   ]
  },
  {
   "cell_type": "code",
   "execution_count": 2,
   "metadata": {},
   "outputs": [],
   "source": [
    "data = pd.read_csv(\"/home/ai3/Desktop/common/ML/Day5/ML_Assignments/ex1.txt\")"
   ]
  },
  {
   "cell_type": "code",
   "execution_count": 3,
   "metadata": {},
   "outputs": [],
   "source": [
    "data = data.as_matrix()"
   ]
  },
  {
   "cell_type": "code",
   "execution_count": 4,
   "metadata": {},
   "outputs": [],
   "source": [
    "#data"
   ]
  },
  {
   "cell_type": "code",
   "execution_count": 5,
   "metadata": {},
   "outputs": [],
   "source": [
    "X = data[:,[0]]\n",
    "y = data[:,[1]]"
   ]
  },
  {
   "cell_type": "code",
   "execution_count": 6,
   "metadata": {},
   "outputs": [
    {
     "name": "stdout",
     "output_type": "stream",
     "text": [
      "[[  5.5277]\n",
      " [  8.5186]\n",
      " [  7.0032]\n",
      " [  5.8598]\n",
      " [  8.3829]\n",
      " [  7.4764]\n",
      " [  8.5781]\n",
      " [  6.4862]\n",
      " [  5.0546]\n",
      " [  5.7107]\n",
      " [ 14.164 ]\n",
      " [  5.734 ]\n",
      " [  8.4084]\n",
      " [  5.6407]\n",
      " [  5.3794]\n",
      " [  6.3654]\n",
      " [  5.1301]\n",
      " [  6.4296]\n",
      " [  7.0708]\n",
      " [  6.1891]\n",
      " [ 20.27  ]\n",
      " [  5.4901]\n",
      " [  6.3261]\n",
      " [  5.5649]\n",
      " [ 18.945 ]\n",
      " [ 12.828 ]\n",
      " [ 10.957 ]\n",
      " [ 13.176 ]\n",
      " [ 22.203 ]\n",
      " [  5.2524]\n",
      " [  6.5894]\n",
      " [  9.2482]\n",
      " [  5.8918]\n",
      " [  8.2111]\n",
      " [  7.9334]\n",
      " [  8.0959]\n",
      " [  5.6063]\n",
      " [ 12.836 ]\n",
      " [  6.3534]\n",
      " [  5.4069]\n",
      " [  6.8825]\n",
      " [ 11.708 ]\n",
      " [  5.7737]\n",
      " [  7.8247]\n",
      " [  7.0931]\n",
      " [  5.0702]\n",
      " [  5.8014]\n",
      " [ 11.7   ]\n",
      " [  5.5416]\n",
      " [  7.5402]\n",
      " [  5.3077]\n",
      " [  7.4239]\n",
      " [  7.6031]\n",
      " [  6.3328]\n",
      " [  6.3589]\n",
      " [  6.2742]\n",
      " [  5.6397]\n",
      " [  9.3102]\n",
      " [  9.4536]\n",
      " [  8.8254]\n",
      " [  5.1793]\n",
      " [ 21.279 ]\n",
      " [ 14.908 ]\n",
      " [ 18.959 ]\n",
      " [  7.2182]\n",
      " [  8.2951]\n",
      " [ 10.236 ]\n",
      " [  5.4994]\n",
      " [ 20.341 ]\n",
      " [ 10.136 ]\n",
      " [  7.3345]\n",
      " [  6.0062]\n",
      " [  7.2259]\n",
      " [  5.0269]\n",
      " [  6.5479]\n",
      " [  7.5386]\n",
      " [  5.0365]\n",
      " [ 10.274 ]\n",
      " [  5.1077]\n",
      " [  5.7292]\n",
      " [  5.1884]\n",
      " [  6.3557]\n",
      " [  9.7687]\n",
      " [  6.5159]\n",
      " [  8.5172]\n",
      " [  9.1802]\n",
      " [  6.002 ]\n",
      " [  5.5204]\n",
      " [  5.0594]\n",
      " [  5.7077]\n",
      " [  7.6366]\n",
      " [  5.8707]\n",
      " [  5.3054]\n",
      " [  8.2934]\n",
      " [ 13.394 ]\n",
      " [  5.4369]] [[  9.1302 ]\n",
      " [ 13.662  ]\n",
      " [ 11.854  ]\n",
      " [  6.8233 ]\n",
      " [ 11.886  ]\n",
      " [  4.3483 ]\n",
      " [ 12.     ]\n",
      " [  6.5987 ]\n",
      " [  3.8166 ]\n",
      " [  3.2522 ]\n",
      " [ 15.505  ]\n",
      " [  3.1551 ]\n",
      " [  7.2258 ]\n",
      " [  0.71618]\n",
      " [  3.5129 ]\n",
      " [  5.3048 ]\n",
      " [  0.56077]\n",
      " [  3.6518 ]\n",
      " [  5.3893 ]\n",
      " [  3.1386 ]\n",
      " [ 21.767  ]\n",
      " [  4.263  ]\n",
      " [  5.1875 ]\n",
      " [  3.0825 ]\n",
      " [ 22.638  ]\n",
      " [ 13.501  ]\n",
      " [  7.0467 ]\n",
      " [ 14.692  ]\n",
      " [ 24.147  ]\n",
      " [ -1.22   ]\n",
      " [  5.9966 ]\n",
      " [ 12.134  ]\n",
      " [  1.8495 ]\n",
      " [  6.5426 ]\n",
      " [  4.5623 ]\n",
      " [  4.1164 ]\n",
      " [  3.3928 ]\n",
      " [ 10.117  ]\n",
      " [  5.4974 ]\n",
      " [  0.55657]\n",
      " [  3.9115 ]\n",
      " [  5.3854 ]\n",
      " [  2.4406 ]\n",
      " [  6.7318 ]\n",
      " [  1.0463 ]\n",
      " [  5.1337 ]\n",
      " [  1.844  ]\n",
      " [  8.0043 ]\n",
      " [  1.0179 ]\n",
      " [  6.7504 ]\n",
      " [  1.8396 ]\n",
      " [  4.2885 ]\n",
      " [  4.9981 ]\n",
      " [  1.4233 ]\n",
      " [ -1.4211 ]\n",
      " [  2.4756 ]\n",
      " [  4.6042 ]\n",
      " [  3.9624 ]\n",
      " [  5.4141 ]\n",
      " [  5.1694 ]\n",
      " [ -0.74279]\n",
      " [ 17.929  ]\n",
      " [ 12.054  ]\n",
      " [ 17.054  ]\n",
      " [  4.8852 ]\n",
      " [  5.7442 ]\n",
      " [  7.7754 ]\n",
      " [  1.0173 ]\n",
      " [ 20.992  ]\n",
      " [  6.6799 ]\n",
      " [  4.0259 ]\n",
      " [  1.2784 ]\n",
      " [  3.3411 ]\n",
      " [ -2.6807 ]\n",
      " [  0.29678]\n",
      " [  3.8845 ]\n",
      " [  5.7014 ]\n",
      " [  6.7526 ]\n",
      " [  2.0576 ]\n",
      " [  0.47953]\n",
      " [  0.20421]\n",
      " [  0.67861]\n",
      " [  7.5435 ]\n",
      " [  5.3436 ]\n",
      " [  4.2415 ]\n",
      " [  6.7981 ]\n",
      " [  0.92695]\n",
      " [  0.152  ]\n",
      " [  2.8214 ]\n",
      " [  1.8451 ]\n",
      " [  4.2959 ]\n",
      " [  7.2029 ]\n",
      " [  1.9869 ]\n",
      " [  0.14454]\n",
      " [  9.0551 ]\n",
      " [  0.61705]]\n"
     ]
    }
   ],
   "source": [
    "print X,y"
   ]
  },
  {
   "cell_type": "code",
   "execution_count": 7,
   "metadata": {},
   "outputs": [
    {
     "data": {
      "image/png": "[encoded data removed]",
      "text/plain": [
       "<Figure size 432x288 with 1 Axes>"
      ]
     },
     "metadata": {},
     "output_type": "display_data"
    }
   ],
   "source": [
    "scatter = plt.scatter(X,y)\n",
    "plt.show()"
   ]
  },
  {
   "cell_type": "code",
   "execution_count": 8,
   "metadata": {},
   "outputs": [],
   "source": [
    "from sklearn.model_selection import train_test_split\n",
    "from sklearn.linear_model import LinearRegression\n",
    "import numpy as np"
   ]
  },
  {
   "cell_type": "code",
   "execution_count": 9,
   "metadata": {},
   "outputs": [],
   "source": [
    "X_train,X_test,y_train,y_test = train_test_split(X,y,test_size = 0.2)"
   ]
  },
  {
   "cell_type": "code",
   "execution_count": 10,
   "metadata": {},
   "outputs": [],
   "source": [
    "lr = LinearRegression()"
   ]
  },
  {
   "cell_type": "code",
   "execution_count": 11,
   "metadata": {},
   "outputs": [
    {
     "data": {
      "text/plain": [
       "LinearRegression(copy_X=True, fit_intercept=True, n_jobs=1, normalize=False)"
      ]
     },
     "execution_count": 11,
     "metadata": {},
     "output_type": "execute_result"
    }
   ],
   "source": [
    "lr.fit(X_train,y_train)"
   ]
  },
  {
   "cell_type": "code",
   "execution_count": 12,
   "metadata": {},
   "outputs": [],
   "source": [
    "pre = lr.predict(X_test)"
   ]
  },
  {
   "cell_type": "code",
   "execution_count": 94,
   "metadata": {},
   "outputs": [
    {
     "name": "stdout",
     "output_type": "stream",
     "text": [
      "2.16213944387\n",
      "2.16213944387\n",
      "1.47042151911\n"
     ]
    }
   ],
   "source": [
    "print(metrics.mean_absolute_error(y_test,pre))\n",
    "print(metrics.mean_absolute_error(y_test,pre))\n",
    "print np.sqrt(metrics.mean_absolute_error(y_test,pre))"
   ]
  },
  {
   "cell_type": "code",
   "execution_count": null,
   "metadata": {},
   "outputs": [],
   "source": []
  }
 ],
 "metadata": {
  "kernelspec": {
   "display_name": "Python 2",
   "language": "python",
   "name": "python2"
  },
  "language_info": {
   "codemirror_mode": {
    "name": "ipython",
    "version": 2
   },
   "file_extension": ".py",
   "mimetype": "text/x-python",
   "name": "python",
   "nbconvert_exporter": "python",
   "pygments_lexer": "ipython2",
   "version": "2.7.15"
  }
 },
 "nbformat": 4,
 "nbformat_minor": 2
}
