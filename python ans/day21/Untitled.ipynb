{
 "cells": [
  {
   "cell_type": "code",
   "execution_count": 1,
   "metadata": {},
   "outputs": [],
   "source": [
    "import numpy as np\n",
    "import pandas as pd"
   ]
  },
  {
   "cell_type": "code",
   "execution_count": 2,
   "metadata": {},
   "outputs": [],
   "source": [
    "#def initialize():\n",
    "df = np.dtype([('empname','S20'),('empno','i8'),('empdesig','S10'),('empsalary','f8'),('empph','S10')])\n",
    "data = np.loadtxt('/home/ai3/Desktop/common/Python_Exercises/emp.csv',delimiter=',',dtype=df)"
   ]
  },
  {
   "cell_type": "code",
   "execution_count": 3,
   "metadata": {},
   "outputs": [],
   "source": [
    "#data = pd.read_csv('/home/ai3/Desktop/common/Python_Exercises/emp.csv', sep=',')\n",
    "#data = data.as_matrix\n",
    "#data"
   ]
  },
  {
   "cell_type": "code",
   "execution_count": 4,
   "metadata": {},
   "outputs": [
    {
     "name": "stdout",
     "output_type": "stream",
     "text": [
      "sdfs\n",
      "12414\n",
      "gg\n",
      "312312\n",
      "14141\n"
     ]
    },
    {
     "data": {
      "text/plain": [
       "array([('sdfs', 12414, 'gg',  312312., '14141')],\n",
       "      dtype=[('empname', 'S20'), ('empno', '<i8'), ('empdesig', 'S10'), ('empsalary', '<f8'), ('empph', 'S10')])"
      ]
     },
     "execution_count": 4,
     "metadata": {},
     "output_type": "execute_result"
    }
   ],
   "source": [
    "#def add():\n",
    "aempname = raw_input()\n",
    "aempno = input()\n",
    "aempdesig = raw_input()\n",
    "aempsalary = input()\n",
    "aempph = input()\n",
    "datlist = [(aempname,aempno,aempdesig,aempsalary,aempph)]\n",
    "type(datlist)\n",
    "aemp = np.array(datlist,dtype=df)\n",
    "aemp"
   ]
  },
  {
   "cell_type": "code",
   "execution_count": 5,
   "metadata": {},
   "outputs": [
    {
     "data": {
      "text/plain": [
       "array([('K.Raj',   101, 'scientist',   50000., '(0493)-228'),\n",
       "       ('Mohan Raj M.',   102, 'engineer',   50000., '[0496]-228'),\n",
       "       ('M.Ram',   104, 'scientist',   80000., '(0491)-428'),\n",
       "       ('Ram Kumar',   104, 'scientist',   60000., '(0491)-428'),\n",
       "       ('Mohan Babu K.K.',   106, 'officer',   50000., '{0496}-238'),\n",
       "       ('K.Gopal',   107, 'scientist',   50000., '(0493)-228'),\n",
       "       ('Anil Raj M.',   108, 'engineer',   50000., '{0496]-228'),\n",
       "       ('Amala P.',   201, 'scientist',   70000., '(0498)-928'),\n",
       "       ('Uma ',   204, 'officer',   60000., '(0491)-428'),\n",
       "       ('Suma',   206, 'engineer',   50000., '0496_23872'),\n",
       "       ('sdfs', 12414, 'gg',  312312., '14141')],\n",
       "      dtype=[('empname', 'S20'), ('empno', '<i8'), ('empdesig', 'S10'), ('empsalary', '<f8'), ('empph', 'S10')])"
      ]
     },
     "execution_count": 5,
     "metadata": {},
     "output_type": "execute_result"
    }
   ],
   "source": [
    "data = np.concatenate([data,aemp],axis=0)\n",
    "data"
   ]
  },
  {
   "cell_type": "code",
   "execution_count": 6,
   "metadata": {},
   "outputs": [
    {
     "name": "stdout",
     "output_type": "stream",
     "text": [
      "Enter employee number to fire him/her.204\n"
     ]
    },
    {
     "data": {
      "text/plain": [
       "array([('K.Raj',   101, 'scientist',   50000., '(0493)-228'),\n",
       "       ('Mohan Raj M.',   102, 'engineer',   50000., '[0496]-228'),\n",
       "       ('M.Ram',   104, 'scientist',   80000., '(0491)-428'),\n",
       "       ('Ram Kumar',   104, 'scientist',   60000., '(0491)-428'),\n",
       "       ('Mohan Babu K.K.',   106, 'officer',   50000., '{0496}-238'),\n",
       "       ('K.Gopal',   107, 'scientist',   50000., '(0493)-228'),\n",
       "       ('Anil Raj M.',   108, 'engineer',   50000., '{0496]-228'),\n",
       "       ('Amala P.',   201, 'scientist',   70000., '(0498)-928'),\n",
       "       ('Suma',   206, 'engineer',   50000., '0496_23872'),\n",
       "       ('sdfs', 12414, 'gg',  312312., '14141')],\n",
       "      dtype=[('empname', 'S20'), ('empno', '<i8'), ('empdesig', 'S10'), ('empsalary', '<f8'), ('empph', 'S10')])"
      ]
     },
     "execution_count": 6,
     "metadata": {},
     "output_type": "execute_result"
    }
   ],
   "source": [
    "#def delete()\n",
    "n = np.where(data==data[data['empno']==input('Enter employee number to fire him/her.')])\n",
    "data = np.delete(data, n)\n",
    "data"
   ]
  },
  {
   "cell_type": "code",
   "execution_count": 12,
   "metadata": {
    "scrolled": true
   },
   "outputs": [
    {
     "name": "stdout",
     "output_type": "stream",
     "text": [
      "Enter employee name/number to see her/his record.'Suma'\n",
      "[('Suma', 206, 'engineer',  50000., '0496_23872')]\n"
     ]
    }
   ],
   "source": [
    "#def dispname():\n",
    "disp_data = input('Enter employee name/number to see her/his record.')\n",
    "if type(disp_data) == str:\n",
    "    print data[data['empname']==disp_data]\n",
    "else:\n",
    "    print data[data['empno']==disp_data]\n",
    "#data[(data['empno'] data['empname'])==input('Enter employee name/number to see her/his record.')]\n",
    "#date"
   ]
  },
  {
   "cell_type": "code",
   "execution_count": 15,
   "metadata": {},
   "outputs": [
    {
     "name": "stdout",
     "output_type": "stream",
     "text": [
      "[('K.Raj',   101, 'scientist',   50000., '(0493)-228')\n",
      " ('Mohan Raj M.',   102, 'engineer',   50000., '[0496]-228')\n",
      " ('M.Ram',   104, 'scientist',   80000., '(0491)-428')\n",
      " ('Ram Kumar',   104, 'scientist',   60000., '(0491)-428')\n",
      " ('Mohan Babu K.K.',   106, 'officer',   50000., '{0496}-238')\n",
      " ('K.Gopal',   107, 'scientist',   50000., '(0493)-228')\n",
      " ('Anil Raj M.',   108, 'engineer',   50000., '{0496]-228')\n",
      " ('Amala P.',   201, 'scientist',   70000., '(0498)-928')\n",
      " ('Suma',   206, 'engineer',   50000., '0496_23872')\n",
      " ('sdfs', 12414, 'gg',  312312., '14141')]\n"
     ]
    }
   ],
   "source": [
    "#def disp():\n",
    "    print data"
   ]
  },
  {
   "cell_type": "code",
   "execution_count": 17,
   "metadata": {},
   "outputs": [],
   "source": [
    "def save():\n",
    "    data.to_csv('emp_reloded.csv')"
   ]
  },
  {
   "cell_type": "code",
   "execution_count": null,
   "metadata": {},
   "outputs": [],
   "source": [
    "def exit():\n",
    "    exit()"
   ]
  },
  {
   "cell_type": "code",
   "execution_count": null,
   "metadata": {},
   "outputs": [],
   "source": [
    "def menu():\n",
    "    print 'High priority confidential record maintenance systems and Co.'\n",
    "    print '1.Initialize '\n",
    "    print '2. Add record?'\n",
    "    print '3. Delete record?'\n",
    "    print '4. Display record by name?'\n",
    "    print '5. Display record in all?'\n",
    "    print '6. Save all'\n",
    "    print '7. Exit'\n",
    "    \n",
    "    loop = True\n",
    "    choice = input('Enter your choice: ')\n",
    "\n",
    "    while loop == True:\n",
    "        if choice == 1:\n",
    "            initialize()\n",
    "        elif choice == 2:\n",
    "            add()\n",
    "        elif choice == 3:\n",
    "            delete()\n",
    "        elif choice == 4:\n",
    "            dispname()\n",
    "        elif choice == 5:\n",
    "            disp()\n",
    "        elif choice == 6:\n",
    "            save()\n",
    "        elif choice == 7:\n",
    "            exit()\n",
    "        else:\n",
    "            loop = False\n",
    "menu()    "
   ]
  },
  {
   "cell_type": "code",
   "execution_count": null,
   "metadata": {},
   "outputs": [],
   "source": []
  }
 ],
 "metadata": {
  "kernelspec": {
   "display_name": "Python 2",
   "language": "python",
   "name": "python2"
  },
  "language_info": {
   "codemirror_mode": {
    "name": "ipython",
    "version": 2
   },
   "file_extension": ".py",
   "mimetype": "text/x-python",
   "name": "python",
   "nbconvert_exporter": "python",
   "pygments_lexer": "ipython2",
   "version": "2.7.15"
  }
 },
 "nbformat": 4,
 "nbformat_minor": 2
}
