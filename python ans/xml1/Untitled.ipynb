{
 "cells": [
  {
   "cell_type": "code",
   "execution_count": 76,
   "metadata": {},
   "outputs": [
    {
     "data": {
      "text/plain": [
       "<DOM Element: Employee at 0x7fef5a58b830>"
      ]
     },
     "execution_count": 76,
     "metadata": {},
     "output_type": "execute_result"
    }
   ],
   "source": [
    "import xml.dom.minidom as dm\n",
    "import pandas as pd\n",
    "\n",
    "data = pd.read_csv('/home/ai3/python ans/xml1/xml.csv')\n",
    "doc= dm.Document()\n",
    "e1 = doc.createElement('Employee')\n",
    "doc.appendChild(e1)"
   ]
  },
  {
   "cell_type": "code",
   "execution_count": 77,
   "metadata": {},
   "outputs": [],
   "source": [
    "for i in range(len(data)):\n",
    "    e11 = doc.createElement('eno')\n",
    "    e12 = doc.createElement('ename')\n",
    "    e13 = doc.createElement('edesig')\n",
    "    e14 = doc.createElement('esalary')\n",
    "\n",
    "    t11 = doc.createTextNode(str(data[u'eno'][i]))\n",
    "    t12 = doc.createTextNode(str(data[u'ename'][i]))\n",
    "    t13 = doc.createTextNode(str(data[u'edesig'][i]))\n",
    "    t14 = doc.createTextNode(str(data[u'esalary'][i]))\n",
    "\n",
    "    e11.appendChild(t11)\n",
    "    e12.appendChild(t12)\n",
    "    e13.appendChild(t13)\n",
    "    e14.appendChild(t14)\n",
    "    e1.appendChild(e11)\n",
    "    e1.appendChild(e12)\n",
    "    e1.appendChild(e13)\n",
    "    e1.appendChild(e14)"
   ]
  },
  {
   "cell_type": "code",
   "execution_count": null,
   "metadata": {},
   "outputs": [],
   "source": []
  },
  {
   "cell_type": "code",
   "execution_count": 78,
   "metadata": {},
   "outputs": [],
   "source": [
    "fd = open('test.xml','w')\n",
    "e1.writexml(fd,indent='\\t',addindent='\\t',newl='\\n')"
   ]
  },
  {
   "cell_type": "code",
   "execution_count": null,
   "metadata": {},
   "outputs": [],
   "source": []
  },
  {
   "cell_type": "code",
   "execution_count": null,
   "metadata": {},
   "outputs": [],
   "source": []
  },
  {
   "cell_type": "code",
   "execution_count": null,
   "metadata": {},
   "outputs": [],
   "source": []
  },
  {
   "cell_type": "code",
   "execution_count": null,
   "metadata": {},
   "outputs": [],
   "source": []
  }
 ],
 "metadata": {
  "kernelspec": {
   "display_name": "Python 2",
   "language": "python",
   "name": "python2"
  },
  "language_info": {
   "codemirror_mode": {
    "name": "ipython",
    "version": 2
   },
   "file_extension": ".py",
   "mimetype": "text/x-python",
   "name": "python",
   "nbconvert_exporter": "python",
   "pygments_lexer": "ipython2",
   "version": "2.7.15"
  }
 },
 "nbformat": 4,
 "nbformat_minor": 2
}
