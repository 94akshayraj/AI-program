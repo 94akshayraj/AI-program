{
 "cells": [
  {
   "cell_type": "code",
   "execution_count": null,
   "metadata": {},
   "outputs": [],
   "source": [
    "#!/usr/bin/python\n",
    "from Tkinter import *\n",
    "mwin=Tk()\n",
    "vexp=''"
   ]
  },
  {
   "cell_type": "code",
   "execution_count": 2,
   "metadata": {},
   "outputs": [],
   "source": [
    "def bhan(ch):\n",
    "\tglobal vexp\n",
    "\tif ch == '=':\n",
    "\t\tvexp = str(eval(vexp))\n",
    "\telse:\n",
    "\t\tvexp += ch\n",
    "\tt1.set(str(vexp))\n",
    "#\tvexp+='1'\n",
    "#\tt1.set(vexp)\n",
    "\n",
    "mwin.title('calc')\n",
    "t1=StringVar()\n",
    "e1=Entry(mwin,textvariable=t1)\n",
    "b1=Button(mwin,text='1',command=lambda:bhan['1'])\n",
    "b2=Button(mwin,text='2',command=lambda:bhan['2'])\n",
    "b3=Button(mwin,text='3',command=lambda:bhan['3'])\n",
    "b4=Button(mwin,text='4',command=lambda:bhan['4'])\n",
    "b5=Button(mwin,text='5',command=lambda:bhan['5'])\n",
    "b6=Button(mwin,text='6',command=lambda:bhan['6'])\n",
    "b7=Button(mwin,text='7',command=lambda:bhan['7'])\n",
    "b8=Button(mwin,text='8',command=lambda:bhan['8'])\n",
    "b9=Button(mwin,text='9',command=lambda:bhan['9'])\n",
    "b0=Button(mwin,text='0',command=lambda:bhan['0'])\n",
    "\n",
    "bp=Button(mwin,text='+',command=lambda:bhan['+'])\n",
    "bm=Button(mwin,text='-',command=lambda:bhan['-'])\n",
    "bmlt=Button(mwin,text='-',command=lambda:bhan['*'])\n",
    "bd=Button(mwin,text='-',command=lambda:bhan['/'])\n",
    "\n",
    "be=Button(mwin,text='=',command=lambda:bhan['='])\n",
    "\n",
    "e1.grid(row=0,column=0,columnspan=4)\n",
    "b1.grid(row=1,column=0)\n",
    "b2.grid(row=1,column=1)\n",
    "b3.grid(row=1,column=2)\n",
    "b4.grid(row=2,column=0)\n",
    "b5.grid(row=2,column=1)\n",
    "b6.grid(row=2,column=2)\n",
    "b7.grid(row=3,column=0)\n",
    "b8.grid(row=3,column=1)\n",
    "b9.grid(row=3,column=2)\n",
    "b0.grid(row=4,column=1)\n",
    "\n",
    "bp.grid(row=1,column=3)\n",
    "bm.grid(row=2,column=3)\n",
    "bmlt.grid(row=3,column=3)\n",
    "bd.grid(row=4,column=3)\n",
    "be.grid(row=2,column=3,columnspan=2)\n",
    "\n",
    "mwin.mainloop()\n"
   ]
  },
  {
   "cell_type": "code",
   "execution_count": null,
   "metadata": {},
   "outputs": [],
   "source": []
  }
 ],
 "metadata": {
  "kernelspec": {
   "display_name": "Python 2",
   "language": "python",
   "name": "python2"
  },
  "language_info": {
   "codemirror_mode": {
    "name": "ipython",
    "version": 2
   },
   "file_extension": ".py",
   "mimetype": "text/x-python",
   "name": "python",
   "nbconvert_exporter": "python",
   "pygments_lexer": "ipython2",
   "version": "2.7.15"
  }
 },
 "nbformat": 4,
 "nbformat_minor": 2
}
